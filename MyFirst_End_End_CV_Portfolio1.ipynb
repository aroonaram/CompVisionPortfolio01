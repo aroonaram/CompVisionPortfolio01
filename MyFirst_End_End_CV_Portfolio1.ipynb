{
  "nbformat": 4,
  "nbformat_minor": 0,
  "metadata": {
    "colab": {
      "name": "MyFirst_End-End_CV_Portfolio1.ipynb",
      "provenance": [],
      "toc_visible": true,
      "authorship_tag": "ABX9TyNU7QYaMzyRN4SsZmUfy4Jm",
      "include_colab_link": true
    },
    "kernelspec": {
      "name": "python3",
      "display_name": "Python 3"
    },
    "language_info": {
      "name": "python"
    }
  },
  "cells": [
    {
      "cell_type": "markdown",
      "metadata": {
        "id": "view-in-github",
        "colab_type": "text"
      },
      "source": [
        "<a href=\"https://colab.research.google.com/github/aroonaram/CompVisionPortfolio01/blob/main/MyFirst_End_End_CV_Portfolio1.ipynb\" target=\"_parent\"><img src=\"https://colab.research.google.com/assets/colab-badge.svg\" alt=\"Open In Colab\"/></a>"
      ]
    },
    {
      "cell_type": "code",
      "metadata": {
        "id": "3LjAO0cXO61N"
      },
      "source": [
        ""
      ],
      "execution_count": null,
      "outputs": []
    },
    {
      "cell_type": "markdown",
      "metadata": {
        "id": "HbpqrexGRK8w"
      },
      "source": [
        "# Image Classification Project 01"
      ]
    },
    {
      "cell_type": "markdown",
      "metadata": {
        "id": "Lfqbi7sNPjGn"
      },
      "source": [
        ""
      ]
    },
    {
      "cell_type": "markdown",
      "metadata": {
        "id": "PixZZXDwRcwk"
      },
      "source": [
        "## Injest Data"
      ]
    },
    {
      "cell_type": "markdown",
      "metadata": {
        "id": "NoQI63ayRibX"
      },
      "source": [
        ""
      ]
    },
    {
      "cell_type": "markdown",
      "metadata": {
        "id": "kxDrZIGXRlu0"
      },
      "source": [
        "## EDA"
      ]
    },
    {
      "cell_type": "markdown",
      "metadata": {
        "id": "PccI9GYARogq"
      },
      "source": [
        "## Model training"
      ]
    },
    {
      "cell_type": "markdown",
      "metadata": {
        "id": "x_sf4wAlRveO"
      },
      "source": [
        "##Model Prediction"
      ]
    }
  ]
}